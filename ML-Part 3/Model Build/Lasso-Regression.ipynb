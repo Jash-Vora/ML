{
 "cells": [
  {
   "cell_type": "code",
   "execution_count": 1,
   "metadata": {},
   "outputs": [],
   "source": [
    "import numpy as np"
   ]
  },
  {
   "cell_type": "code",
   "execution_count": null,
   "metadata": {},
   "outputs": [],
   "source": [
    "class Lasso_Regression():\n",
    "     \n",
    "    # initializing the hyperparameters\n",
    "    def __init__(self,learning_rate,no_of_iterations,lamda_parameter):\n",
    "        self.learning_rate = learning_rate\n",
    "        self.no_of_iterations = no_of_iterations\n",
    "        self.lamda_parameter = lamda_parameter\n",
    "\n",
    "    # fitting the dataset to the model\n",
    "    def fit(self,X,Y):\n",
    "        self.m,self.n = X.shape\n",
    "\n",
    "        self.w = np.zeros(self.n)\n",
    "        self.b = 0\n",
    "        self.X = X\n",
    "        self.Y = Y\n",
    "\n",
    "        # caalculation\n",
    "        for i in range(self.no_of_iterations):\n",
    "            self.update_weights()\n",
    "\n",
    "    # updating weight and bias at every iteration\n",
    "    def update_weights(self):\n",
    "        Y_prediction = self.predict(self.X)\n",
    "\n",
    "        dw = np.zeros(self.n)\n",
    "        #calculation of dw,db\n",
    "        for i in range(self.n):\n",
    "            if(self.w[i]>0):\n",
    "                dw[i] = (-(2)*(self.X[:,i]).dot((self.Y - Y_prediction))+ self.lamda_parameter)/self.m\n",
    "\n",
    "            else:\n",
    "                dw[i] = (-(2)*(self.X[:,i]).dot((self.Y - Y_prediction))- self.lamda_parameter)/self.m\n",
    "            \n",
    "        # gradient for bias\n",
    "        db = - 2 * np.sum(self.Y - Y_prediction) / self.m\n",
    "        # updating the weights & bias\n",
    "        self.w = self.w - self.learning_rate*dw\n",
    "        self.b = self.b - self.learning_rate*db  \n",
    "\n",
    "    # prediction for the output\n",
    "    def predict(self,X):\n",
    "        return X.dot(self.w) + self.b"
   ]
  }
 ],
 "metadata": {
  "kernelspec": {
   "display_name": "Python 3",
   "language": "python",
   "name": "python3"
  },
  "language_info": {
   "codemirror_mode": {
    "name": "ipython",
    "version": 3
   },
   "file_extension": ".py",
   "mimetype": "text/x-python",
   "name": "python",
   "nbconvert_exporter": "python",
   "pygments_lexer": "ipython3",
   "version": "3.11.8"
  }
 },
 "nbformat": 4,
 "nbformat_minor": 2
}
